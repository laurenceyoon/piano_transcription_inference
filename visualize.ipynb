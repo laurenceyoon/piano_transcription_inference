{
 "cells": [
  {
   "cell_type": "code",
   "execution_count": null,
   "metadata": {},
   "outputs": [],
   "source": [
    "import matplotlib.pyplot as plt\n",
    "%matplotlib inline\n",
    "\n",
    "from piano_transcription_inference.utilities import load_frame_and_onset_from_midi\n",
    "import pretty_midi\n"
   ]
  },
  {
   "cell_type": "code",
   "execution_count": null,
   "metadata": {},
   "outputs": [],
   "source": [
    "plt.figure(figsize=(10, 15))\n",
    "plt.title('Prediction - Piano')\n",
    "plt.ylabel('Note')\n",
    "plt.xlabel('Time')\n",
    "pred_pf_data = load_frame_and_onset_from_midi('./visualize/pred_pf.mid')\n",
    "plt.imshow(pred_pf_data['frame'].numpy().T, aspect='auto', origin='lower')\n",
    "fig.tight_layout()\n",
    "plt.savefig('visualize/pred_pf.png')"
   ]
  }
 ],
 "metadata": {
  "language_info": {
   "name": "python"
  },
  "orig_nbformat": 4
 },
 "nbformat": 4,
 "nbformat_minor": 2
}
